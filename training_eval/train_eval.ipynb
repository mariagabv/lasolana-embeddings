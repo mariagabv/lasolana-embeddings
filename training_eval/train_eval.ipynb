{
 "cells": [
  {
   "cell_type": "markdown",
   "id": "c3854fa1",
   "metadata": {},
   "source": [
    "\n",
    "<div style=\"text-align: right;\">\n",
    "    MA. Language Analysis and Processing<br>\n",
    "    <em>In a Vector Space of La Mancha, whose Position I Do Wish to Recall:</em><br>\n",
    "    <em>A comprehensive Evaluation of Word Embeddings</em><br>\n",
    "    María García-Abadillo Velasco\n",
    "</div>"
   ]
  },
  {
   "cell_type": "markdown",
   "id": "0ce67f55",
   "metadata": {},
   "source": [
    "<center><h1 style=\"font-size: 30px;\">Training and Evaluating Word Embeddings with fasttext </h1></center>"
   ]
  },
  {
   "cell_type": "markdown",
   "id": "f7275bd4",
   "metadata": {
    "toc": true
   },
   "source": [
    "<h1>Table of Contents<span class=\"tocSkip\"></span></h1>\n",
    "<div class=\"toc\"><ul class=\"toc-item\"><li><span><a href=\"#Training-and-Evaluating-Word-Embeddings-with-fasttext-\" data-toc-modified-id=\"Training-and-Evaluating-Word-Embeddings-with-fasttext--1\">Training and Evaluating Word Embeddings with fasttext </a></span><ul class=\"toc-item\"><li><span><a href=\"#Introduction\" data-toc-modified-id=\"Introduction-1.1\">Introduction</a></span></li><li><span><a href=\"#fastText\" data-toc-modified-id=\"fastText-1.2\">fastText</a></span></li><li><span><a href=\"#Embedding-training-with-fasttext\" data-toc-modified-id=\"Embedding-training-with-fasttext-1.3\">Embedding training with fasttext</a></span><ul class=\"toc-item\"><li><span><a href=\"#Hyperparameters\" data-toc-modified-id=\"Hyperparameters-1.3.1\">Hyperparameters</a></span></li></ul></li><li><span><a href=\"#Intrinsic-Evaluation\" data-toc-modified-id=\"Intrinsic-Evaluation-1.4\">Intrinsic Evaluation</a></span><ul class=\"toc-item\"><li><span><a href=\"#Analogy-test\" data-toc-modified-id=\"Analogy-test-1.4.1\">Analogy test</a></span></li><li><span><a href=\"#toefl-test\" data-toc-modified-id=\"toefl-test-1.4.2\">toefl test</a></span></li><li><span><a href=\"#lasolana-embeddings\" data-toc-modified-id=\"lasolana-embeddings-1.4.3\">lasolana embeddings</a></span><ul class=\"toc-item\"><li><span><a href=\"#Analogy-test\" data-toc-modified-id=\"Analogy-test-1.4.3.1\">Analogy test</a></span></li><li><span><a href=\"#toefl-test\" data-toc-modified-id=\"toefl-test-1.4.3.2\">toefl test</a></span></li></ul></li><li><span><a href=\"#fasttext-Spanish-embeddings\" data-toc-modified-id=\"fasttext-Spanish-embeddings-1.4.4\">fasttext Spanish embeddings</a></span><ul class=\"toc-item\"><li><span><a href=\"#Analogy-test\" data-toc-modified-id=\"Analogy-test-1.4.4.1\">Analogy test</a></span></li><li><span><a href=\"#toefl-test\" data-toc-modified-id=\"toefl-test-1.4.4.2\">toefl test</a></span></li></ul></li><li><span><a href=\"#lasolana+fasttest-embeddings\" data-toc-modified-id=\"lasolana+fasttest-embeddings-1.4.5\">lasolana+fasttest embeddings</a></span><ul class=\"toc-item\"><li><span><a href=\"#Analogy-test\" data-toc-modified-id=\"Analogy-test-1.4.5.1\">Analogy test</a></span></li><li><span><a href=\"#toefl-test\" data-toc-modified-id=\"toefl-test-1.4.5.2\">toefl test</a></span></li></ul></li></ul></li><li><span><a href=\"#Extrinsic-Evaluation:-Text-Classification\" data-toc-modified-id=\"Extrinsic-Evaluation:-Text-Classification-1.5\">Extrinsic Evaluation: Text Classification</a></span><ul class=\"toc-item\"><li><span><a href=\"#Data-Analysis\" data-toc-modified-id=\"Data-Analysis-1.5.1\">Data Analysis</a></span></li><li><span><a href=\"#Preprocessing\" data-toc-modified-id=\"Preprocessing-1.5.2\">Preprocessing</a></span></li><li><span><a href=\"#Training-and-Results\" data-toc-modified-id=\"Training-and-Results-1.5.3\">Training and Results</a></span><ul class=\"toc-item\"><li><span><a href=\"#lasolana\" data-toc-modified-id=\"lasolana-1.5.3.1\">lasolana</a></span></li><li><span><a href=\"#fasttest\" data-toc-modified-id=\"fasttest-1.5.3.2\">fasttest</a></span></li><li><span><a href=\"#lasolana+fasttest\" data-toc-modified-id=\"lasolana+fasttest-1.5.3.3\">lasolana+fasttest</a></span></li></ul></li><li><span><a href=\"#Final-Results\" data-toc-modified-id=\"Final-Results-1.5.4\">Final Results</a></span></li><li><span><a href=\"#Conclusion\" data-toc-modified-id=\"Conclusion-1.5.5\">Conclusion</a></span></li></ul></li></ul></li></ul></div>"
   ]
  },
  {
   "cell_type": "markdown",
   "id": "9141c734",
   "metadata": {},
   "source": [
    "## Introduction\n",
    "\n",
    "This notebook presents the second part of the `lasolana-embeddings` project, where we train word embeddings using the `fasttext` library with data related to the town of La Solana. We also provide an evaluation set to assess the quality of our embeddings intrinsically and build a Random Forest classifier to evaluate the embeddings extrinsically.\n",
    "\n",
    "A separate notebook dedicated to the preprocessing process can be found in the GitHub repository."
   ]
  },
  {
   "cell_type": "code",
   "execution_count": 1,
   "id": "b701a1e6",
   "metadata": {},
   "outputs": [],
   "source": [
    "import pandas as pd\n",
    "import scipy\n",
    "from scipy.spatial import distance\n",
    "import fasttext\n",
    "import numpy as np\n",
    "import textacy\n",
    "from textacy import preprocessing as preproc\n",
    "import spacy\n",
    "from sklearn.metrics import accuracy_score\n",
    "from sklearn.metrics.pairwise import cosine_similarity\n",
    "from sklearn.model_selection import train_test_split\n",
    "from sklearn import metrics\n",
    "from sklearn.ensemble import RandomForestClassifier\n",
    "from sklearn.metrics import confusion_matrix\n",
    "from utils_train_eval import (\n",
    "                   get_analogies,\n",
    "                   compute_accuracy,\n",
    "                   joint_accuracy,\n",
    "                   compute_vector_distance,\n",
    "                   get_acc_RandomForestClassifier,\n",
    "                   plot_conf_matrix\n",
    "                )\n",
    "\n",
    "nlp = spacy.load(\"es_core_news_sm\")\n"
   ]
  },
  {
   "cell_type": "markdown",
   "id": "917dd937",
   "metadata": {},
   "source": [
    "## fastText\n",
    "\n",
    "FastText is a library developed by Facebook (now Meta) and first launched in 2015. According to the developers' website: 'FastText is an open-source, free, lightweight library that allows users to learn text representations and text classifiers'. In this notebook, we will be looking at their module for text represenation (unsupervised learning).\n",
    "\n",
    "The fastText embeddings differ from standard Word2Vec embeddings in how they create word vectors. fastText vectors are composed of word vectors from the word itself and their n-grams (subwords). This means that character n-grams, which are also in the vocabulary, are used to create the vectors. Thus, a word's representation is the sum of the word itself, its n-grams, and a starting and ending token. The training process is identical to that of Word2Vec.\n",
    "\n",
    "For example, the vector for the word 'racimo' would be formed by: < racimo />, <ra, rac, aci, cim, imo, mo />.\n",
    "\n",
    "This approach may be beneficial for morphology-rich languages and can help represent out-of-vocabulary or misspelled words. We chose this library because, as explained in the preprocessing notebook, our data may have noisy sentences due to conversion problems that could not be addressed during preprocessing. **However, preliminary results showed that the standard skipgram model without subwords yielded better results than the subword model. Therefore, we will be using the standard version in this project**.\n"
   ]
  },
  {
   "cell_type": "markdown",
   "id": "446bab82",
   "metadata": {},
   "source": [
    "## Embedding training with fasttext"
   ]
  },
  {
   "cell_type": "markdown",
   "id": "8253c17c",
   "metadata": {},
   "source": [
    "### Hyperparameters"
   ]
  },
  {
   "cell_type": "markdown",
   "id": "20953b0a",
   "metadata": {},
   "source": [
    "We conducted a preliminary 'in-domain' analogy test on La Solana using various parameters to determine the optimal combination for our embeddings. Although accuracy was not evaluated. We followed the recommendations in Lai et al. for the initial parameters.\n",
    "\n",
    "- **skipgram vs. cbow**: No test was conducted to compare both models due to time constraints. The paper's recommendation was followed: 'in case of smaller corpus, a simpler model, such as Skip-gram, can achieve bettter results'.\n",
    "- **Subwords**: As mentioned above, the embeddings performed better in the first analogy test without subwords and therefore 'minn' and 'maxn' hyperparameters were set to 0 as in default modus.\n",
    "- **Dimensions**: According to the paper, 'for tasks that analayzing the semantic properties of a word embeddings, larger dimensions can provide better results. (...) [A]s feature or for initialization, a dimensionalirty of 50 is sufficient'. The dimensions were set to 150 based on our observation that it performed well in the analogy test and we anticipated that it would not have a negative impact on the classification test.\n",
    "- **epoch**: It was observed that using a default value of 5 epochs improved results compared to using a smaller number of epochs, but stagnated with a larger number.\n",
    "- **ws**: Size of the context window. It was set to 5 as in Mikolov et al.\n",
    "- **neg**: Negative Sampling. Mikolov et al. show that setting this hyperparameter to 5 'achieves a respectable accuracy' and did further experiments with neg=15 that obtained 'a considerable better performace'. We kept the default setting at 5 because there were no substantial differences in results, and the initial approach was less time-consuming.\n",
    "\n",
    "Other options available in the `fasttext` library were set to default. The [List of Options] can be checked here (https://fasttext.cc/docs/en/options.html)."
   ]
  },
  {
   "cell_type": "code",
   "execution_count": 2,
   "id": "5f0499a1",
   "metadata": {},
   "outputs": [],
   "source": [
    "#model_without_subwords = fasttext.train_unsupervised('underscore.txt', \"skipgram\", maxn=0, dim=150, epoch=5, ws=5, neg=5, loss=softmax)"
   ]
  },
  {
   "cell_type": "markdown",
   "id": "e34b2e63",
   "metadata": {},
   "source": [
    "The function `save_model` stores the trained embeddings in bin or vec format."
   ]
  },
  {
   "cell_type": "code",
   "execution_count": 3,
   "id": "4bc7b9e9",
   "metadata": {},
   "outputs": [],
   "source": [
    "#model_without_subwords.save_model(\"lasolana_embeddings.bin\")"
   ]
  },
  {
   "cell_type": "code",
   "execution_count": 4,
   "id": "d67f788e",
   "metadata": {},
   "outputs": [],
   "source": [
    "#model_without_subwords.save_model(\"lasolana_embeddings.vec\")"
   ]
  },
  {
   "cell_type": "markdown",
   "id": "a016d2fc",
   "metadata": {},
   "source": [
    "The `load_model` function loads the bin file, so there is no need to train the embeddings every time the notebook is run."
   ]
  },
  {
   "cell_type": "code",
   "execution_count": 5,
   "id": "53afdd06",
   "metadata": {
    "scrolled": false
   },
   "outputs": [],
   "source": [
    "model_without_subwords = fasttext.load_model(\"lasolana_embeddings.bin\")"
   ]
  },
  {
   "cell_type": "markdown",
   "id": "ae1a244a",
   "metadata": {},
   "source": [
    "We can check our trained embeddings with the function `get_word_vector` and a word of our choice."
   ]
  },
  {
   "cell_type": "code",
   "execution_count": 6,
   "id": "3a9fa4d0",
   "metadata": {
    "scrolled": true
   },
   "outputs": [
    {
     "name": "stdout",
     "output_type": "stream",
     "text": [
      "Embedding Dimension: 150\n",
      "[-0.5273106  -0.39260942 -0.24089144  0.44986957  0.11556076  0.30784723\n",
      " -0.16992638  0.13188002  0.26897743  0.3934884  -0.14891402  0.19025896\n",
      " -0.01511345  0.13644227  0.05657289  0.14651524 -0.06362846  0.61355805\n",
      "  0.14019467 -0.2838383  -0.23814662  0.10784842 -0.25331277 -0.456323\n",
      "  0.2692011  -0.2708984   0.3179567   0.01972751 -0.14685082  0.13099718\n",
      " -0.41180402 -0.9037126  -0.6191731  -0.28085202 -0.40101272  0.12898223\n",
      " -0.06868472 -0.09243235  0.21697354  0.6108568   0.7044967   0.530805\n",
      "  0.22137526  0.19009973  0.91498643  0.17874297 -0.08945675  0.32607272\n",
      " -0.09734905 -0.6758606   0.23029248 -0.6165424  -0.08551025  0.4861766\n",
      " -0.24308553 -0.3751549  -0.5358301  -0.04808812 -0.0590622   0.13965139\n",
      "  0.26524103  0.05047992 -0.05306007  0.0266733  -0.10046843  0.17159301\n",
      "  0.06350871  0.42901644  0.4398953  -0.03180495  0.40234295 -0.26072487\n",
      " -0.08994752  0.09915439 -0.40342182  0.22212008 -0.32681498 -0.06036621\n",
      " -0.15447155  0.21661547  0.2583615   0.2712977  -0.32599914 -0.5579775\n",
      " -0.52381957 -0.22277819  0.77898616  0.99769294 -0.7528756  -0.0691934\n",
      " -0.23844938  0.16555674 -0.4698386  -0.3880933  -0.40389925 -0.8003686\n",
      "  0.5213514   0.48505023  0.33891484 -0.17628263 -0.3606266   0.2928428\n",
      " -0.3897419  -0.34098837 -0.5574056  -0.3394243  -0.06530158 -0.23095943\n",
      "  0.2775921  -0.460944    0.48605275 -0.30895337 -0.16232939  0.13411339\n",
      " -0.6806466   0.11618362  0.27193797  0.32746708 -0.29694113 -0.77959645\n",
      "  0.07155901  0.4095566   0.80986893  0.04600984 -0.06745191  1.3163805\n",
      " -0.20593636 -0.10664398  0.47966975 -0.59033096 -0.16232654 -0.41422483\n",
      "  0.05834332 -0.07156658  0.07497094  0.11271168  0.31797254 -0.29245538\n",
      " -0.4514122  -0.01804905 -0.21885791 -0.11881368  0.54957074  0.24697836\n",
      " -0.1631659  -0.06933945 -0.07678398 -0.08025739 -0.58486736  0.33886266]\n"
     ]
    }
   ],
   "source": [
    "uva = model_without_subwords.get_word_vector(\"uva\")\n",
    "print(f'Embedding Dimension: {len(uva)}')\n",
    "print(uva)"
   ]
  },
  {
   "cell_type": "markdown",
   "id": "ad2ebf1f",
   "metadata": {},
   "source": [
    "Because word embeddings do not require labeled data (they rely on the distributional hypothesis) for their training process, they are considered unsupervised. However, this poses the question of how evaluate them. Following Lai et al, we designed a small evaluation benchmark for our purposes. It is composed of two main parts: **Intrinsic evaluation** and **extrinsic evaluation**.\n",
    "\n",
    "## Intrinsic Evaluation\n",
    "\n",
    "\n",
    "The intrinsic evaluation aims to assess the embedding's semantic properties and it was divided in two test:"
   ]
  },
  {
   "cell_type": "markdown",
   "id": "7e146c23",
   "metadata": {},
   "source": [
    "### Analogy test\n",
    "We were inspired by the well-known analogy test first published by Mikolov et al. entitled [Google analogy test](http://download.tensorflow.org/data/questions-words.txt). This test set consists of 19544 question pairs about 14 types of relations (9 morphological and 5 semantic). **However, our test is much more modest, consisting of 20 question pairs about two types of relations (in-domain `analogy_lasolana` or general `analogy_general`)**."
   ]
  },
  {
   "cell_type": "code",
   "execution_count": 7,
   "id": "83a982c5",
   "metadata": {},
   "outputs": [],
   "source": [
    "analogy_lasolana = [(\"vallehermoso\", \"pantano\", \"ruidera\", \"lagunas\"),\n",
    "                  (\"airén\", \"blanco\", \"tinto\", \"tempranillo\"),\n",
    "                  (\"solanero\", \"la_solana\", \"valdepeñas\", \"valdepeñero\"),\n",
    "                  (\"valdepeñero\", \"valdepeñera\", \"solanera\", \"solanero\"),\n",
    "                  (\"tomas_barreda\", \"teatro\", \"santa_catalina\", \"cooperativa\"),\n",
    "                  (\"colegio\", \"sagrado_corazón\", \"instituto\", \"modesto_navarro\"),\n",
    "                  (\"bodegas\", \"vino\", \"aceite\", \"almazaras\"),\n",
    "                  (\"parroquia\", \"santa_catalina\", \"san_sebastián\", \"ermita\"),\n",
    "                  (\"fútbol\", \"ff_la_solana\", \"cb_la_solana\", \"baloncesto\"),\n",
    "                  (\"pp\", \"partdo_popular\", \"partido_socialista\", \"psoe\"),\n",
    "                   ]\n",
    "                  "
   ]
  },
  {
   "cell_type": "code",
   "execution_count": 8,
   "id": "6d4b72dc",
   "metadata": {},
   "outputs": [],
   "source": [
    "analogy_general = [(\"mejor\", \"bien\", \"mal\", \"peor\"),\n",
    "                  (\"tener\", \"tenido\", \"vivido\", \"vivir\"),\n",
    "                  (\"personas\", \"persona\", \"estudiante\", \"estudiantes\"),\n",
    "                  (\"español\", \"españa\", \"alemán\", \"alemania\"),\n",
    "                  (\"alcalde\", \"alcaldesa\", \"maestra\", \"maestro\"),\n",
    "                  (\"comida\", \"comer\", \"beber\", \"bebida\"),\n",
    "                  (\"españa\", \"madrid\", \"roma\", \"italia\"),\n",
    "                  (\"dar\", \"dando\", \"hablando\", \"hablar\"),\n",
    "                  (\"poco\", \"poquísimo\", \"muchísimo\", \"mucho\"),\n",
    "                  (\"feliz\", \"felicidad\", \"tristeza\", \"triste\"),\n",
    "                ]"
   ]
  },
  {
   "cell_type": "markdown",
   "id": "65271688",
   "metadata": {},
   "source": [
    "### toefl test\n",
    "Following Lai et al., we created a set of questions that simulate the TOEFL example. In their experiment, the set contains 80 multiple-choice synonym questions with 4 candidates each. **In our case, the set is again more modest and has 21 questions, of which 10 are in-domain (`toefl_lasolana`) and 11 are general (`toefl_general`)**. \n",
    "\n",
    "Since the `fasttext` libray does not contain a function to find the most similar words and discard the less similar ones, we create our own function (see utils_train.py). To do this, we set all the words to be excluded to index 3 and expect the function to return this index as the less similar word if the embeddings are well trained."
   ]
  },
  {
   "cell_type": "code",
   "execution_count": 9,
   "id": "99327821",
   "metadata": {},
   "outputs": [],
   "source": [
    "ground_truth = [3, 3, 3, 3, 3, 3, 3, 3, 3, 3, 3]"
   ]
  },
  {
   "cell_type": "code",
   "execution_count": 10,
   "id": "1bdda6b8",
   "metadata": {},
   "outputs": [],
   "source": [
    "toefl_lasolana = [\n",
    "    [\"fs_la_solana\", \"ff_la_solana\", \"cf_la_solana\", \"red\"],\n",
    "    [\"membrilla\", \"manzanares\", \"valdepeñas\", \"jornada\"],\n",
    "    [\"partido_popular\", \"izquierda_unida\", \"partido_socialista\", \"tomate\"],\n",
    "    [\"sagrado_corazón\", \"javier_paulino\", \"el_humilladero\", \"inglés\"],\n",
    "    [\"chirigota\", \"murga\", \"comparsa\", \"carpintería\"],\n",
    "    [\"humilladero\", \"calvario\", \"moheda\", \"información\"],\n",
    "    [\"majuelo\", \"vid\", \"cepas\", \"siempre\"],\n",
    "    [\"capacho\", \"espuerta\", \"estera\", \"alquiler\"],\n",
    "    [\"maitín\", \"navidad\", \"nochebuena\", \"fotografía\"],\n",
    "    [\"los_macarras\", \"futuros_camareros\", \"no_trasnoches\", \"san_sebastián\"],\n",
    "    [\"moje\", \"gachas\", \"migas\", \"ascensor\"]\n",
    "]\n"
   ]
  },
  {
   "cell_type": "code",
   "execution_count": 11,
   "id": "ab7270b3",
   "metadata": {},
   "outputs": [],
   "source": [
    "toefl_general = [\n",
    "    [\"rojo\", \"verde\", \"amarillo\", \"municipal\"],\n",
    "    [\"perro\", \"gato\", \"caballo\", \"ajedrez\"],\n",
    "    [\"alumnos\", \"alumnas\", \"estudiantes\", \"contenedores\"],\n",
    "    [\"españa\", \"francia\", \"alemania\", \"carnaval\"],\n",
    "    [\"especialmente\", \"absolutamente\", \"probablemente\", \"piel\"],\n",
    "    [\"localidad\", \"municipio\", \"pueblo\", \"lápiz\"],\n",
    "    [\"mucho\", \"mucha\", \"muchísimo\", \"iglesia\"],\n",
    "    [\"fútbol\", \"baloncesto\", \"tenis\", \"felicidad\"],\n",
    "    [\"vehículo\", \"coche\", \"automóvil\", \"toros\"],\n",
    "    [\"trabajar\", \"trabajando\", \"trabajado\", \"edificio\"],\n",
    "    [\"bien\", \"mal\", \"regular\", \"moda\"]\n",
    "]"
   ]
  },
  {
   "cell_type": "markdown",
   "id": "fb80c1f8",
   "metadata": {},
   "source": [
    "Finally, the train setup is finished and we can start testing the three pairs of embeddings:\n",
    "- **lasolana embeddings**: `model_without_subwords`, trained on our collected corpus using skipgram, 150 dimensions, whitout character n-grams, a window of size 5 and 5 negatives.\n",
    "- **fasttext embeddings**: trained on Common Crawl and Wikipedia using CBOW, dimension reduced from 300 to 150, with character n-grams of length 5, a window of size 5 and 10 negatives.\n",
    "- **finetuned lasolana+fasttext**"
   ]
  },
  {
   "cell_type": "markdown",
   "id": "6b7b8dc3",
   "metadata": {},
   "source": [
    "### lasolana embeddings"
   ]
  },
  {
   "cell_type": "markdown",
   "id": "fba254ba",
   "metadata": {},
   "source": [
    "#### Analogy test\n",
    "We created our own `get_analogies` function tailored to our data to effectively extract the most likely word to fill the gap according to the `.get_analogies()` function from `fasttext`. "
   ]
  },
  {
   "cell_type": "code",
   "execution_count": 12,
   "id": "fbf41fcc",
   "metadata": {
    "scrolled": false
   },
   "outputs": [],
   "source": [
    "result_analogy_lasolana, solution_word_lasolana, result_analogy_general, solution_word_general = get_analogies(analogy_lasolana, analogy_general, model_without_subwords)"
   ]
  },
  {
   "cell_type": "markdown",
   "id": "e535ea62",
   "metadata": {},
   "source": [
    "Finally, the accuracy for each subgroup (in-domain, general) and the average result was calculated"
   ]
  },
  {
   "cell_type": "code",
   "execution_count": 13,
   "id": "8d4bc403",
   "metadata": {},
   "outputs": [],
   "source": [
    "analogy_lasolana_accuracy = compute_accuracy(result_analogy_lasolana, solution_word_lasolana)\n",
    "analogy_general_accuracy = compute_accuracy(result_analogy_general, solution_word_general)\n",
    "joint_accuracy_analogy = joint_accuracy(result_analogy_lasolana, solution_word_lasolana, result_analogy_general, solution_word_general)"
   ]
  },
  {
   "cell_type": "code",
   "execution_count": 14,
   "id": "fb82bba4",
   "metadata": {
    "scrolled": true
   },
   "outputs": [
    {
     "name": "stdout",
     "output_type": "stream",
     "text": [
      "lasolana_embeddings_analogy_indomain: 90.0\n",
      "lasolana_embeddings_analogy_general: 30.0\n",
      "\n",
      "lasolana_embeddings_analogy_avg: 60.0\n"
     ]
    }
   ],
   "source": [
    "print(f'lasolana_embeddings_analogy_indomain: {analogy_lasolana_accuracy}')\n",
    "print(f'lasolana_embeddings_analogy_general: {analogy_general_accuracy}')\n",
    "print()\n",
    "print(f'lasolana_embeddings_analogy_avg: {joint_accuracy_analogy}')"
   ]
  },
  {
   "cell_type": "markdown",
   "id": "806c7f19",
   "metadata": {},
   "source": [
    "#### toefl test"
   ]
  },
  {
   "cell_type": "markdown",
   "id": "18985922",
   "metadata": {},
   "source": [
    "Firstly, dictionaries with the embeddings of the words listed above in `toefl_{general/lasolana}` are created using the function `get_word_vector` from the `fasttext` library."
   ]
  },
  {
   "cell_type": "code",
   "execution_count": 15,
   "id": "5e1826b4",
   "metadata": {},
   "outputs": [],
   "source": [
    "lasolana_embeddings = [(word, model_without_subwords.get_word_vector(word)) for sublist in toefl_lasolana for word in sublist]\n",
    "lasolana_embeddings_dict = {word: embedding for word, embedding in lasolana_embeddings}\n",
    "\n",
    "general_embeddings = [(word, model_without_subwords.get_word_vector(word)) for sublist in toefl_general for word in sublist]\n",
    "general_embeddings_dict = {word: embedding for word, embedding in general_embeddings}"
   ]
  },
  {
   "cell_type": "markdown",
   "id": "705e2dc8",
   "metadata": {},
   "source": [
    "Then the cosine distance is calculated. Since we did not find a suitable function for this task in `fasstext`, we built it ourselves and can be found in `utils_train.py`."
   ]
  },
  {
   "cell_type": "code",
   "execution_count": 16,
   "id": "525f1b19",
   "metadata": {
    "scrolled": true
   },
   "outputs": [
    {
     "name": "stderr",
     "output_type": "stream",
     "text": [
      "/Users/maria/anaconda3/envs/myenv2/lib/python3.11/site-packages/scipy/spatial/distance.py:636: RuntimeWarning: invalid value encountered in scalar divide\n",
      "  dist = 1.0 - uv / np.sqrt(uu * vv)\n"
     ]
    }
   ],
   "source": [
    "lasolana_distance_vector = compute_vector_distance(toefl_lasolana, lasolana_embeddings_dict)\n",
    "general_distance_vector = compute_vector_distance(toefl_general, general_embeddings_dict)"
   ]
  },
  {
   "cell_type": "markdown",
   "id": "d9b59ef8",
   "metadata": {},
   "source": [
    " Next, the indices of the excluded words are extracted."
   ]
  },
  {
   "cell_type": "code",
   "execution_count": 17,
   "id": "63fd2c82",
   "metadata": {},
   "outputs": [],
   "source": [
    "lasolana_similarity_vector_min = [np.argmin(d) for d in lasolana_distance_vector]\n",
    "general_similarity_vector_min = [np.argmin(d) for d in general_distance_vector]"
   ]
  },
  {
   "cell_type": "code",
   "execution_count": 18,
   "id": "bf82ed8e",
   "metadata": {
    "scrolled": true
   },
   "outputs": [
    {
     "data": {
      "text/plain": [
       "[3, 3, 3, 3, 2, 3, 3, 3, 3, 3, 3]"
      ]
     },
     "execution_count": 18,
     "metadata": {},
     "output_type": "execute_result"
    }
   ],
   "source": [
    "general_similarity_vector_min"
   ]
  },
  {
   "cell_type": "markdown",
   "id": "d6fb77cf",
   "metadata": {},
   "source": [
    "We see a 2 in index 4. This is the set of words `especialmente, absolutamente, probablemente, piel`. In this case, the embeddings chose `probabilmente` as the word to exclude, when in fact it is `piel`. Let us check it too extracting the word:"
   ]
  },
  {
   "cell_type": "code",
   "execution_count": 19,
   "id": "bdc0723f",
   "metadata": {},
   "outputs": [],
   "source": [
    "lasolana_excluded_words = [toefl_lasolana[i][index] for i, index in enumerate(lasolana_similarity_vector_min)]\n",
    "general_excluded_words = [toefl_general[i][index] for i, index in enumerate(general_similarity_vector_min)]"
   ]
  },
  {
   "cell_type": "code",
   "execution_count": 20,
   "id": "1d50a78d",
   "metadata": {},
   "outputs": [
    {
     "data": {
      "text/plain": [
       "['municipal',\n",
       " 'ajedrez',\n",
       " 'contenedores',\n",
       " 'carnaval',\n",
       " 'probablemente',\n",
       " 'lápiz',\n",
       " 'iglesia',\n",
       " 'felicidad',\n",
       " 'toros',\n",
       " 'edificio',\n",
       " 'moda']"
      ]
     },
     "execution_count": 20,
     "metadata": {},
     "output_type": "execute_result"
    }
   ],
   "source": [
    "general_excluded_words"
   ]
  },
  {
   "cell_type": "markdown",
   "id": "cf815417",
   "metadata": {},
   "source": [
    "Finally, the accuracy for each subgroup (in-domain, general) and the average result was calculated"
   ]
  },
  {
   "cell_type": "code",
   "execution_count": 21,
   "id": "1cc272b9",
   "metadata": {},
   "outputs": [],
   "source": [
    "toefl_lasolana_accuracy = compute_accuracy(lasolana_similarity_vector_min, ground_truth)\n",
    "toefl_general_accuracy = compute_accuracy(general_similarity_vector_min, ground_truth)\n",
    "\n",
    "joint_accuracy_toefl = joint_accuracy(lasolana_similarity_vector_min, ground_truth, general_similarity_vector_min, ground_truth)\n",
    "\n"
   ]
  },
  {
   "cell_type": "code",
   "execution_count": 22,
   "id": "441cfd21",
   "metadata": {
    "scrolled": true
   },
   "outputs": [
    {
     "name": "stdout",
     "output_type": "stream",
     "text": [
      "lasolana_embeddings_toefl_indomain: 100.0\n",
      "lasolana_embeddings_toefl_general: 90.9090909090909\n",
      "\n",
      "lasolana_embeddings_toefl_avg: 95.45454545454545\n"
     ]
    }
   ],
   "source": [
    "print(f'lasolana_embeddings_toefl_indomain: {toefl_lasolana_accuracy}')\n",
    "print(f'lasolana_embeddings_toefl_general: {toefl_general_accuracy}')\n",
    "print()\n",
    "print(f'lasolana_embeddings_toefl_avg: {joint_accuracy_toefl}')"
   ]
  },
  {
   "cell_type": "markdown",
   "id": "8b17aca1",
   "metadata": {},
   "source": [
    "### fasttext Spanish embeddings"
   ]
  },
  {
   "cell_type": "code",
   "execution_count": 23,
   "id": "ee5c4841",
   "metadata": {},
   "outputs": [],
   "source": [
    "import fasttext.util"
   ]
  },
  {
   "cell_type": "markdown",
   "id": "0bffd6ee",
   "metadata": {},
   "source": [
    "The Spanish embeddings were directly saved into our machine from this notebook with the `fasttext` function. `download_model`."
   ]
  },
  {
   "cell_type": "code",
   "execution_count": 24,
   "id": "26b8aabc",
   "metadata": {},
   "outputs": [],
   "source": [
    "#fasttext.util.download_model('es', if_exists='ignore') "
   ]
  },
  {
   "cell_type": "markdown",
   "id": "12a6d2ae",
   "metadata": {},
   "source": [
    "Then the data was loaded again in order to reduce its dimensionality to 150 as the embeddings trained with the colected corpus and saved again."
   ]
  },
  {
   "cell_type": "code",
   "execution_count": 25,
   "id": "32f3c3be",
   "metadata": {},
   "outputs": [],
   "source": [
    "ft_model_es = fasttext.load_model('es_embeddings.bin')"
   ]
  },
  {
   "cell_type": "code",
   "execution_count": 26,
   "id": "764dbf10",
   "metadata": {},
   "outputs": [],
   "source": [
    "#fasttext.util.reduce_model(ft_model_es, 150)"
   ]
  },
  {
   "cell_type": "code",
   "execution_count": 27,
   "id": "1a451883",
   "metadata": {},
   "outputs": [],
   "source": [
    "#ft_model_es.get_dimension()"
   ]
  },
  {
   "cell_type": "code",
   "execution_count": 28,
   "id": "c0d3cdaa",
   "metadata": {},
   "outputs": [],
   "source": [
    "#ft_model_es.save_model(\"es_embeddings.bin\")"
   ]
  },
  {
   "cell_type": "markdown",
   "id": "97b5a2a5",
   "metadata": {},
   "source": [
    "**The tests were carried out as before in the senction `Lasolana embeddings`. Please refer to that section to read the explanation of the code.**"
   ]
  },
  {
   "cell_type": "markdown",
   "id": "2679a86a",
   "metadata": {},
   "source": [
    "#### Analogy test"
   ]
  },
  {
   "cell_type": "code",
   "execution_count": 29,
   "id": "4eb8da5a",
   "metadata": {},
   "outputs": [],
   "source": [
    "result_analogy_lasolana_es, solution_word_lasolana_es, result_analogy_general_es, solution_word_general_es = get_analogies(analogy_lasolana, analogy_general, ft_model_es)"
   ]
  },
  {
   "cell_type": "code",
   "execution_count": 30,
   "id": "8b123a92",
   "metadata": {},
   "outputs": [],
   "source": [
    "result_analogy_lasolana_es = [i.lower() for i in result_analogy_lasolana_es]"
   ]
  },
  {
   "cell_type": "code",
   "execution_count": 31,
   "id": "87389ada",
   "metadata": {},
   "outputs": [
    {
     "data": {
      "text/plain": [
       "['peor',\n",
       " 'vivir',\n",
       " 'estudiantes',\n",
       " 'francés',\n",
       " 'maestro',\n",
       " 'bebida',\n",
       " 'italia',\n",
       " 'hablar',\n",
       " 'mucho',\n",
       " 'triste']"
      ]
     },
     "execution_count": 31,
     "metadata": {},
     "output_type": "execute_result"
    }
   ],
   "source": [
    "result_analogy_general_es"
   ]
  },
  {
   "cell_type": "code",
   "execution_count": 32,
   "id": "8e79258d",
   "metadata": {},
   "outputs": [],
   "source": [
    "analogy_lasolana_es_accuracy = compute_accuracy(result_analogy_lasolana_es, solution_word_lasolana_es)\n",
    "analogy_general_es_accuracy = compute_accuracy(result_analogy_general_es, solution_word_general_es)\n",
    "joint_accuracy_es_analogy = joint_accuracy(result_analogy_lasolana_es, solution_word_lasolana_es, result_analogy_general_es, solution_word_general_es)"
   ]
  },
  {
   "cell_type": "code",
   "execution_count": 33,
   "id": "97154e4a",
   "metadata": {},
   "outputs": [
    {
     "name": "stdout",
     "output_type": "stream",
     "text": [
      "fasttext_embeddings_analogy_lasolana: 30.0\n",
      "fasttext_embeddings_analogy_general: 90.0\n",
      "\n",
      "fasttext_embeddings_avg: 60.0\n"
     ]
    }
   ],
   "source": [
    "print(f'fasttext_embeddings_analogy_lasolana: {analogy_lasolana_es_accuracy}')\n",
    "print(f'fasttext_embeddings_analogy_general: {analogy_general_es_accuracy}')\n",
    "print()\n",
    "print(f'fasttext_embeddings_avg: {joint_accuracy_es_analogy}')"
   ]
  },
  {
   "cell_type": "markdown",
   "id": "dd455a36",
   "metadata": {},
   "source": [
    "#### toefl test"
   ]
  },
  {
   "cell_type": "code",
   "execution_count": 34,
   "id": "2f64bc4a",
   "metadata": {},
   "outputs": [],
   "source": [
    "lasolana_embeddings_es = [(word, ft_model_es.get_word_vector(word)) for sublist in toefl_lasolana for word in sublist]\n",
    "lasolana_embeddings_dict_es = {word: embedding for word, embedding in lasolana_embeddings_es}\n",
    "\n",
    "general_embeddings_es = [(word, ft_model_es.get_word_vector(word)) for sublist in toefl_general for word in sublist]\n",
    "general_embeddings_dict_es = {word: embedding for word, embedding in general_embeddings_es}"
   ]
  },
  {
   "cell_type": "code",
   "execution_count": 35,
   "id": "cbe507c9",
   "metadata": {},
   "outputs": [],
   "source": [
    "lasolana_distance_vector_es = compute_vector_distance(toefl_lasolana, lasolana_embeddings_dict_es)\n",
    "general_distance_vector_es = compute_vector_distance(toefl_general, general_embeddings_dict_es)"
   ]
  },
  {
   "cell_type": "code",
   "execution_count": 36,
   "id": "b2cb5027",
   "metadata": {},
   "outputs": [],
   "source": [
    "lasolana_similarity_vector_min_es = [np.argmin(d) for d in lasolana_distance_vector_es]\n",
    "general_similarity_vector_min_es = [np.argmin(d) for d in general_distance_vector_es]"
   ]
  },
  {
   "cell_type": "code",
   "execution_count": 37,
   "id": "ae0f6151",
   "metadata": {},
   "outputs": [],
   "source": [
    "lasolana_excluded_words_es = [toefl_lasolana[i][index] for i, index in enumerate(lasolana_similarity_vector_min_es)]\n",
    "general_excluded_words_es = [toefl_general[i][index] for i, index in enumerate(general_similarity_vector_min_es)]"
   ]
  },
  {
   "cell_type": "code",
   "execution_count": 38,
   "id": "6c4569f3",
   "metadata": {},
   "outputs": [
    {
     "data": {
      "text/plain": [
       "['red',\n",
       " 'jornada',\n",
       " 'tomate',\n",
       " 'inglés',\n",
       " 'carpintería',\n",
       " 'información',\n",
       " 'siempre',\n",
       " 'alquiler',\n",
       " 'fotografía',\n",
       " 'san_sebastián',\n",
       " 'ascensor']"
      ]
     },
     "execution_count": 38,
     "metadata": {},
     "output_type": "execute_result"
    }
   ],
   "source": [
    "lasolana_excluded_words_es"
   ]
  },
  {
   "cell_type": "code",
   "execution_count": 39,
   "id": "991fbc16",
   "metadata": {},
   "outputs": [],
   "source": [
    "toefl_lasolana_accuracy_es = compute_accuracy(lasolana_similarity_vector_min_es, ground_truth)\n",
    "toefl_general_accuracy_es = compute_accuracy(general_similarity_vector_min_es, ground_truth)\n",
    "\n",
    "joint_accuracy_toefl_es = joint_accuracy(lasolana_similarity_vector_min_es, ground_truth, general_similarity_vector_min_es, ground_truth)\n"
   ]
  },
  {
   "cell_type": "code",
   "execution_count": 40,
   "id": "964351e8",
   "metadata": {
    "scrolled": true
   },
   "outputs": [
    {
     "name": "stdout",
     "output_type": "stream",
     "text": [
      "fasttext_embeddings_toefl_lasolana: 100.0\n",
      "fasttext_embeddings_toefl_general: 100.0\n",
      "\n",
      "fasttext_embeddings_toefl_avg: 100.0\n"
     ]
    }
   ],
   "source": [
    "print(f'fasttext_embeddings_toefl_lasolana: {toefl_lasolana_accuracy_es}')\n",
    "print(f'fasttext_embeddings_toefl_general: {toefl_general_accuracy_es}')\n",
    "print()\n",
    "print(f'fasttext_embeddings_toefl_avg: {joint_accuracy_toefl_es}')"
   ]
  },
  {
   "cell_type": "markdown",
   "id": "364b85ef",
   "metadata": {},
   "source": [
    "### lasolana+fasttest embeddings"
   ]
  },
  {
   "cell_type": "markdown",
   "id": "7e49d08c",
   "metadata": {},
   "source": [
    "The final step is to evaluate a [finetuned version](https://github.com/piskvorky/gensim/issues/2350) of the embeddings trained on the collected corpus and the pretrained Spanish fasttext embeddings. To do this, we create a finetuned bin file, save it locally and load it again to the notebook. Unfortunately, we have not found any specific information on how fastText carries out finetuning."
   ]
  },
  {
   "cell_type": "code",
   "execution_count": 41,
   "id": "445d5428",
   "metadata": {},
   "outputs": [],
   "source": [
    "# Preprocessed and cleaned \n",
    "#LASOLANA_CORPUS = 'underscore.txt'\n",
    "\n",
    "#fasttext Spanish embeddings in txt\n",
    "#PRETRAINED_FILE = 'w2vembeddings_es.txt'\n",
    "\n",
    "#model_finetuned  = fasttext.train_unsupervised(LASOLANA_CORPUS, model='skipgram', dim=149, pretrainedVectors=PRETRAINED_FILE)\n",
    "#model_finetuned.save_model(\"finetuned_150.bin\")"
   ]
  },
  {
   "cell_type": "code",
   "execution_count": 42,
   "id": "93cd2cb1",
   "metadata": {},
   "outputs": [],
   "source": [
    "#model_finetuned .get_dimension()"
   ]
  },
  {
   "cell_type": "code",
   "execution_count": 43,
   "id": "53646fdb",
   "metadata": {},
   "outputs": [],
   "source": [
    "model_finetuned = fasttext.load_model(\"finetuned_150.bin\")"
   ]
  },
  {
   "cell_type": "markdown",
   "id": "b1072939",
   "metadata": {},
   "source": [
    "**The tests were carried out as before in the senction `Lasolana embeddings`. Please refer to that section to read the explanation of the code.**\n",
    "#### Analogy test"
   ]
  },
  {
   "cell_type": "code",
   "execution_count": 44,
   "id": "ea441188",
   "metadata": {},
   "outputs": [],
   "source": [
    "result_analogy_lasolana_pre, solution_word_lasolana_pre, result_analogy_general_pre, solution_word_general_pre = get_analogies(analogy_lasolana, analogy_general, model_finetuned)"
   ]
  },
  {
   "cell_type": "code",
   "execution_count": 45,
   "id": "9efa24c1",
   "metadata": {},
   "outputs": [],
   "source": [
    "result_analogy_lasolana_pre = [i.lower() for i in result_analogy_lasolana_es]"
   ]
  },
  {
   "cell_type": "code",
   "execution_count": 46,
   "id": "91282213",
   "metadata": {},
   "outputs": [],
   "source": [
    "analogy_lasolana_pre_accuracy = compute_accuracy(result_analogy_lasolana_pre, solution_word_lasolana_pre)\n",
    "analogy_general_pre_accuracy = compute_accuracy(result_analogy_general_pre, solution_word_general_pre)\n",
    "joint_accuracy_pre_analogy = joint_accuracy(result_analogy_lasolana_pre, solution_word_lasolana_pre, result_analogy_general_pre, solution_word_general_pre)"
   ]
  },
  {
   "cell_type": "code",
   "execution_count": 47,
   "id": "c35067a1",
   "metadata": {},
   "outputs": [
    {
     "name": "stdout",
     "output_type": "stream",
     "text": [
      "finetuned_embeddings_analogy_lasolana: 30.0\n",
      "finetuned_embeddings_analogy_general: 50.0\n",
      "\n",
      "finetuned_embeddings_avg: 40.0\n"
     ]
    }
   ],
   "source": [
    "print(f'finetuned_embeddings_analogy_lasolana: {analogy_lasolana_pre_accuracy}')\n",
    "print(f'finetuned_embeddings_analogy_general: {analogy_general_pre_accuracy}')\n",
    "print()\n",
    "print(f'finetuned_embeddings_avg: {joint_accuracy_pre_analogy}')"
   ]
  },
  {
   "cell_type": "markdown",
   "id": "375b57e0",
   "metadata": {},
   "source": [
    "#### toefl test"
   ]
  },
  {
   "cell_type": "code",
   "execution_count": 48,
   "id": "fc694359",
   "metadata": {},
   "outputs": [],
   "source": [
    "lasolana_embeddings_pre = [(word, model_finetuned.get_word_vector(word)) for sublist in toefl_lasolana for word in sublist]\n",
    "lasolana_embeddings_dict_pre = {word: embedding for word, embedding in lasolana_embeddings_pre}\n",
    "\n",
    "general_embeddings_pre = [(word, model_finetuned.get_word_vector(word)) for sublist in toefl_general for word in sublist]\n",
    "general_embeddings_dict_pre = {word: embedding for word, embedding in general_embeddings_pre}\n"
   ]
  },
  {
   "cell_type": "code",
   "execution_count": 49,
   "id": "41056455",
   "metadata": {},
   "outputs": [],
   "source": [
    "lasolana_distance_vector_pre = compute_vector_distance(toefl_lasolana, lasolana_embeddings_dict_pre)\n",
    "general_distance_vector_pre = compute_vector_distance(toefl_general, general_embeddings_dict_pre)"
   ]
  },
  {
   "cell_type": "code",
   "execution_count": 50,
   "id": "c83310b9",
   "metadata": {},
   "outputs": [],
   "source": [
    "lasolana_similarity_vector_min_pre = [np.argmin(d) for d in lasolana_distance_vector_pre]\n",
    "general_similarity_vector_min_pre = [np.argmin(d) for d in general_distance_vector_pre]"
   ]
  },
  {
   "cell_type": "code",
   "execution_count": 51,
   "id": "3de57dbf",
   "metadata": {},
   "outputs": [],
   "source": [
    "lasolana_excluded_words_pre = [toefl_lasolana[i][index] for i, index in enumerate(lasolana_similarity_vector_min_pre)]\n",
    "general_excluded_words_pre = [toefl_general[i][index] for i, index in enumerate(general_similarity_vector_min_pre)]"
   ]
  },
  {
   "cell_type": "code",
   "execution_count": 52,
   "id": "e15a2174",
   "metadata": {},
   "outputs": [],
   "source": [
    "toefl_lasolana_accuracy_pre = compute_accuracy(lasolana_similarity_vector_min_pre, ground_truth)\n",
    "toefl_general_accuracy_pre = compute_accuracy(general_similarity_vector_min_pre, ground_truth)\n",
    "\n",
    "joint_accuracy_toefl_pre = joint_accuracy(lasolana_similarity_vector_min_pre, ground_truth, general_similarity_vector_min_pre, ground_truth)\n"
   ]
  },
  {
   "cell_type": "code",
   "execution_count": 53,
   "id": "2f7e968f",
   "metadata": {},
   "outputs": [
    {
     "name": "stdout",
     "output_type": "stream",
     "text": [
      "finetuned_embeddings_toefl_lasolana: 90.9090909090909\n",
      "finetuned_embeddings_toefl_general: 100.0\n",
      "\n",
      "joint_accuracy: 95.45454545454545\n"
     ]
    }
   ],
   "source": [
    "print(f'finetuned_embeddings_toefl_lasolana: {toefl_lasolana_accuracy_pre}')\n",
    "print(f'finetuned_embeddings_toefl_general: {toefl_general_accuracy_pre}')\n",
    "print()\n",
    "print(f'joint_accuracy: {joint_accuracy_toefl_pre}')"
   ]
  },
  {
   "cell_type": "code",
   "execution_count": 54,
   "id": "7f541715",
   "metadata": {},
   "outputs": [
    {
     "data": {
      "text/plain": [
       "['municipal',\n",
       " 'ajedrez',\n",
       " 'contenedores',\n",
       " 'carnaval',\n",
       " 'piel',\n",
       " 'lápiz',\n",
       " 'iglesia',\n",
       " 'felicidad',\n",
       " 'toros',\n",
       " 'edificio',\n",
       " 'moda']"
      ]
     },
     "execution_count": 54,
     "metadata": {},
     "output_type": "execute_result"
    }
   ],
   "source": [
    "general_excluded_words_pre"
   ]
  },
  {
   "cell_type": "markdown",
   "id": "ca305b5c",
   "metadata": {},
   "source": [
    "## Extrinsic Evaluation: Text Classification\n",
    "\n",
    "While the previous intrinsic evaluation focus on the internal properties of embeddings (the ability to capture semantic relationships), extrinsic evaluation shifts the focus towards evaluating embeddings based on their performance in downstream NLP tasks. \n",
    "\n",
    "Our task involves performing text classification on `La Solana News Dataset`. This dataset was briefly introduced in the preprocessing notebook, which can be found in the same GitHub repository and will be examined in the following section. We will use a Random Forest classifier, as it was the classifier implemented in our last project for the Machine Learning II course on the same corpus (this will be published in GitHub soon). **Our goal is to compare the results of the three set of embeddings we intrinsically evaluated before, with that of the previous MLII course that did not use embeddings.**"
   ]
  },
  {
   "cell_type": "markdown",
   "id": "645a64b4",
   "metadata": {},
   "source": [
    "### Data Analysis"
   ]
  },
  {
   "cell_type": "code",
   "execution_count": 55,
   "id": "4a6b39fc",
   "metadata": {},
   "outputs": [],
   "source": [
    "from pandas import DataFrame"
   ]
  },
  {
   "cell_type": "code",
   "execution_count": 56,
   "id": "1e07ec29",
   "metadata": {},
   "outputs": [],
   "source": [
    "data_supervised = pd.read_csv('/Users/maria/Desktop/embeddings/articles/lasolana_dataset.csv')"
   ]
  },
  {
   "cell_type": "code",
   "execution_count": 57,
   "id": "ab057160",
   "metadata": {},
   "outputs": [
    {
     "data": {
      "text/html": [
       "<div>\n",
       "<style scoped>\n",
       "    .dataframe tbody tr th:only-of-type {\n",
       "        vertical-align: middle;\n",
       "    }\n",
       "\n",
       "    .dataframe tbody tr th {\n",
       "        vertical-align: top;\n",
       "    }\n",
       "\n",
       "    .dataframe thead th {\n",
       "        text-align: right;\n",
       "    }\n",
       "</style>\n",
       "<table border=\"1\" class=\"dataframe\">\n",
       "  <thead>\n",
       "    <tr style=\"text-align: right;\">\n",
       "      <th></th>\n",
       "      <th>Link</th>\n",
       "      <th>Publish Date</th>\n",
       "      <th>Author</th>\n",
       "      <th>Title</th>\n",
       "      <th>Text</th>\n",
       "      <th>Topic</th>\n",
       "    </tr>\n",
       "  </thead>\n",
       "  <tbody>\n",
       "    <tr>\n",
       "      <th>0</th>\n",
       "      <td>https://www.lasolana.es/laciudad/noticias/1754...</td>\n",
       "      <td>2024-02-02</td>\n",
       "      <td>Gabriel Jaime</td>\n",
       "      <td>Luisa Márquez: \"Los solaneros seguirán siendo ...</td>\n",
       "      <td>La presidenta de la Fundación Benéfica Legado ...</td>\n",
       "      <td>política</td>\n",
       "    </tr>\n",
       "    <tr>\n",
       "      <th>1</th>\n",
       "      <td>https://www.lasolana.es/laciudad/noticias/1754...</td>\n",
       "      <td>2024-02-02</td>\n",
       "      <td>Aurelio Maroto</td>\n",
       "      <td>Manolo Alfaro, nuevo entrenador del CF La Solana</td>\n",
       "      <td>Uno se va a Asturias y otro viene de Asturias....</td>\n",
       "      <td>deporte</td>\n",
       "    </tr>\n",
       "    <tr>\n",
       "      <th>2</th>\n",
       "      <td>https://www.lasolana.es/laciudad/noticias/1754...</td>\n",
       "      <td>2024-02-02</td>\n",
       "      <td>Aurelio Maroto</td>\n",
       "      <td>El Pleno aprueba el reglamento del Consejo Loc...</td>\n",
       "      <td>La Corporación Municipal de La Solana acaba de...</td>\n",
       "      <td>política</td>\n",
       "    </tr>\n",
       "    <tr>\n",
       "      <th>3</th>\n",
       "      <td>https://www.lasolana.es/laciudad/noticias/1754...</td>\n",
       "      <td>2024-02-01</td>\n",
       "      <td>Gabriel Jaime</td>\n",
       "      <td>La fundación Legado Bustillo mejora las condic...</td>\n",
       "      <td>La Fundación Legado Bustillo ha firmado un nue...</td>\n",
       "      <td>economía</td>\n",
       "    </tr>\n",
       "    <tr>\n",
       "      <th>4</th>\n",
       "      <td>https://www.lasolana.es/laciudad/noticias/1754...</td>\n",
       "      <td>2024-02-01</td>\n",
       "      <td>Aurelio Maroto</td>\n",
       "      <td>El Ayuntamiento expresa su apoyo al campo y en...</td>\n",
       "      <td>La Concejalía de Agricultura, Ganadería y Cami...</td>\n",
       "      <td>economía</td>\n",
       "    </tr>\n",
       "  </tbody>\n",
       "</table>\n",
       "</div>"
      ],
      "text/plain": [
       "                                                Link Publish Date  \\\n",
       "0  https://www.lasolana.es/laciudad/noticias/1754...   2024-02-02   \n",
       "1  https://www.lasolana.es/laciudad/noticias/1754...   2024-02-02   \n",
       "2  https://www.lasolana.es/laciudad/noticias/1754...   2024-02-02   \n",
       "3  https://www.lasolana.es/laciudad/noticias/1754...   2024-02-01   \n",
       "4  https://www.lasolana.es/laciudad/noticias/1754...   2024-02-01   \n",
       "\n",
       "           Author                                              Title  \\\n",
       "0   Gabriel Jaime  Luisa Márquez: \"Los solaneros seguirán siendo ...   \n",
       "1  Aurelio Maroto   Manolo Alfaro, nuevo entrenador del CF La Solana   \n",
       "2  Aurelio Maroto  El Pleno aprueba el reglamento del Consejo Loc...   \n",
       "3   Gabriel Jaime  La fundación Legado Bustillo mejora las condic...   \n",
       "4  Aurelio Maroto  El Ayuntamiento expresa su apoyo al campo y en...   \n",
       "\n",
       "                                                Text     Topic  \n",
       "0  La presidenta de la Fundación Benéfica Legado ...  política  \n",
       "1  Uno se va a Asturias y otro viene de Asturias....   deporte  \n",
       "2  La Corporación Municipal de La Solana acaba de...  política  \n",
       "3  La Fundación Legado Bustillo ha firmado un nue...  economía  \n",
       "4  La Concejalía de Agricultura, Ganadería y Cami...  economía  "
      ]
     },
     "execution_count": 57,
     "metadata": {},
     "output_type": "execute_result"
    }
   ],
   "source": [
    "data_supervised.head()"
   ]
  },
  {
   "cell_type": "markdown",
   "id": "d0a5dc58",
   "metadata": {},
   "source": [
    "The dataset consists of six columns. To train the embeddings, we selected the `Title` and `Text` columns. For classification, we will combine these two columns and add the `Topic` column for labeling."
   ]
  },
  {
   "cell_type": "code",
   "execution_count": 58,
   "id": "60016ecc",
   "metadata": {},
   "outputs": [],
   "source": [
    "dataset = DataFrame()\n",
    "dataset['Text'] = data_supervised['Title'] + ' ' + data_supervised['Text']\n",
    "dataset['Topic'] = data_supervised['Topic']"
   ]
  },
  {
   "cell_type": "markdown",
   "id": "6888d622",
   "metadata": {},
   "source": [
    "The 'Topic' column was labeled according to the following guidelines:\n",
    "\n",
    "+ **política**: political measures, political discrepancies or regulations.\n",
    "+ **deporte**: all kind of sports. Also the signing of new team members.\n",
    "+ **economía**: agriculture, gastronomy, local commerce or local entrepreneurship and unemployment.\n",
    "+ **cultura**: art, shows, performances, poetry, music or literature.\n",
    "+ **sociedad**: broader term encompassing all topics related to society, including religion, social engagement, festivities, bullfighting events wellness or health. News about coronavirus were also included in this section.\n",
    "+ **sucesos**: meteorological conditions, traffic updates, incidents, and other notable events where law enforcement and other authorities are typically involved.\n",
    "+ **educación**: schools and high schools of the municipality. Also news regarding educational measures to tackle unemployment.\n",
    "\n",
    "The class distribution is imbalanced because 'sociedad' encompasses various subtopics such as religion, social engagement, festivities, and wellness. However, we consider this annotation preferable to having more than seven classes."
   ]
  },
  {
   "cell_type": "code",
   "execution_count": 59,
   "id": "ba9a661f",
   "metadata": {
    "scrolled": true
   },
   "outputs": [
    {
     "data": {
      "text/plain": [
       "Topic\n",
       "sociedad     337\n",
       "deporte      180\n",
       "cultura      180\n",
       "sucesos      115\n",
       "política      97\n",
       "educación     82\n",
       "economía      79\n",
       "Name: count, dtype: int64"
      ]
     },
     "execution_count": 59,
     "metadata": {},
     "output_type": "execute_result"
    }
   ],
   "source": [
    "dataset['Topic'].value_counts()"
   ]
  },
  {
   "cell_type": "markdown",
   "id": "a3fd88a9",
   "metadata": {},
   "source": [
    "### Preprocessing"
   ]
  },
  {
   "cell_type": "markdown",
   "id": "11c47e1b",
   "metadata": {},
   "source": [
    "Next, the raw text will undergo preprocessing steps to transform it into a format that the classifier can effectively understand and process:\n",
    "- Stopword removal\n",
    "- Unicode normalization: \"caf\\u00e9\" would be transoformed into \"café\".\n",
    "- Punctuation removal\n",
    "- Quotation marks are normalized (“,«, ', ‘)\n",
    "- Extra whitespace removal\n",
    "- Lowercase"
   ]
  },
  {
   "cell_type": "code",
   "execution_count": 60,
   "id": "1500a766",
   "metadata": {},
   "outputs": [],
   "source": [
    "X_temp = dataset['Text'].values\n",
    "y = dataset['Topic'].values"
   ]
  },
  {
   "cell_type": "code",
   "execution_count": 61,
   "id": "acaa23d5",
   "metadata": {},
   "outputs": [],
   "source": [
    "def remove_stopwords(sent):\n",
    "    temp = nlp(sent)\n",
    "    return [str(token) for token in temp if not token.is_stop] "
   ]
  },
  {
   "cell_type": "code",
   "execution_count": 62,
   "id": "c6ce6b3b",
   "metadata": {},
   "outputs": [],
   "source": [
    "preprocessor = preproc.make_pipeline(\n",
    "    preproc.normalize.unicode,\n",
    "    preproc.remove.punctuation,\n",
    "     preproc.normalize.quotation_marks,\n",
    "  preproc.normalize.whitespace,\n",
    ")"
   ]
  },
  {
   "cell_type": "code",
   "execution_count": 63,
   "id": "eef57f25",
   "metadata": {},
   "outputs": [],
   "source": [
    "temp_sentences=[preprocessor(str(sent).lower()) for sent in X_temp] "
   ]
  },
  {
   "cell_type": "code",
   "execution_count": 64,
   "id": "502bfb33",
   "metadata": {
    "scrolled": true
   },
   "outputs": [],
   "source": [
    "X=[remove_stopwords(sent) for sent in temp_sentences]"
   ]
  },
  {
   "cell_type": "markdown",
   "id": "9e4a65b0",
   "metadata": {},
   "source": [
    "After the preprocessing stage, the text data is prepared for the train-test split. The primary focus of this study is not on text classification, so we will not delve into hyperparameter tuning. Consequently, there is no requirement for a development set to be created. "
   ]
  },
  {
   "cell_type": "code",
   "execution_count": 65,
   "id": "1d46a20a",
   "metadata": {},
   "outputs": [],
   "source": [
    "# stratify=maintain the same proportion of each class in both the training and testing sets\n",
    "X_train,X_test,y_train,y_test=train_test_split(X,y,test_size=0.3,random_state=42,stratify=y)"
   ]
  },
  {
   "cell_type": "code",
   "execution_count": 66,
   "id": "008930c0",
   "metadata": {},
   "outputs": [
    {
     "name": "stdout",
     "output_type": "stream",
     "text": [
      "Label cultura: 54 occurrences\n",
      "Label deporte: 54 occurrences\n",
      "Label economía: 24 occurrences\n",
      "Label educación: 25 occurrences\n",
      "Label política: 29 occurrences\n",
      "Label sociedad: 101 occurrences\n",
      "Label sucesos: 34 occurrences\n"
     ]
    }
   ],
   "source": [
    "unique_labels, label_counts = np.unique(y_test, return_counts=True)\n",
    "\n",
    "# Print the counts for each label\n",
    "for label, count in zip(unique_labels, label_counts):\n",
    "    print(f\"Label {label}: {count} occurrences\")"
   ]
  },
  {
   "cell_type": "markdown",
   "id": "226515ba",
   "metadata": {},
   "source": [
    "We performed a 70%-30% split:"
   ]
  },
  {
   "cell_type": "code",
   "execution_count": 67,
   "id": "393c47b6",
   "metadata": {
    "scrolled": true
   },
   "outputs": [
    {
     "data": {
      "text/plain": [
       "749"
      ]
     },
     "execution_count": 67,
     "metadata": {},
     "output_type": "execute_result"
    }
   ],
   "source": [
    "len(X_train)"
   ]
  },
  {
   "cell_type": "code",
   "execution_count": 68,
   "id": "73ebc31e",
   "metadata": {
    "scrolled": true
   },
   "outputs": [
    {
     "data": {
      "text/plain": [
       "321"
      ]
     },
     "execution_count": 68,
     "metadata": {},
     "output_type": "execute_result"
    }
   ],
   "source": [
    "len(X_test)"
   ]
  },
  {
   "cell_type": "code",
   "execution_count": 69,
   "id": "d3e300c0",
   "metadata": {},
   "outputs": [],
   "source": [
    "# Renaming models for clarity\n",
    "loc_pretrained = ft_model_es\n",
    "loc_lasolana = model_without_subwords\n",
    "loc_finetuned = model_finetuned "
   ]
  },
  {
   "cell_type": "markdown",
   "id": "bb10fce0",
   "metadata": {},
   "source": [
    "### Training and Results"
   ]
  },
  {
   "cell_type": "markdown",
   "id": "183e0b6e",
   "metadata": {},
   "source": [
    "As in the intrinsic evaluation, we will follow the same steps for each set of embeddings to be tested:\n",
    "1. Create the function to obtain the necessary embeddings from each set of embeddings\n",
    "2. Obtain the mean embedding by averaging the embeddings of individual words in the article for both train and test.\n",
    "3. Use the average embedding for each article as a feature vector, where each element of the vector corresponds to a feature extracted from the original article to train a Random Forest Classifier (as implemented in ML2 final project).\n",
    "4. Calculate accuracy to compare result among the three set of embeddings and the ML2 project where no embeddings were used.\n"
   ]
  },
  {
   "cell_type": "markdown",
   "id": "4bad2b9d",
   "metadata": {},
   "source": [
    "#### lasolana"
   ]
  },
  {
   "cell_type": "code",
   "execution_count": 70,
   "id": "f72d4829",
   "metadata": {},
   "outputs": [],
   "source": [
    "def get_embedding(word):\n",
    "    try:\n",
    "        embedding=loc_lasolana[word]\n",
    "    # in case the word is not found in the embeddings\n",
    "    except:\n",
    "        embedding=np.zeros((150,))\n",
    "    return embedding"
   ]
  },
  {
   "cell_type": "code",
   "execution_count": 71,
   "id": "bf60b6f9",
   "metadata": {},
   "outputs": [],
   "source": [
    "X_train_embeddings=[np.mean(np.array(list(map(get_embedding,tok_sent))),axis=0) for tok_sent in X_train]\n",
    "X_test_embeddings=[np.mean(np.array(list(map(get_embedding,tok_sent))),axis=0) for tok_sent in X_test]"
   ]
  },
  {
   "cell_type": "code",
   "execution_count": 72,
   "id": "e63b93d8",
   "metadata": {},
   "outputs": [],
   "source": [
    "predictions_lasolana, acc_lasolana = get_acc_RandomForestClassifier(X_train_embeddings, y_train, X_test_embeddings, y_test)"
   ]
  },
  {
   "cell_type": "code",
   "execution_count": 73,
   "id": "7c642237",
   "metadata": {
    "scrolled": false
   },
   "outputs": [
    {
     "name": "stdout",
     "output_type": "stream",
     "text": [
      "accuracy_lasolana: 0.8473520249221184\n",
      "\n",
      "              precision    recall  f1-score   support\n",
      "\n",
      "     cultura       0.80      0.80      0.80        54\n",
      "     deporte       0.98      0.96      0.97        54\n",
      "    economía       0.85      0.71      0.77        24\n",
      "   educación       0.71      0.88      0.79        25\n",
      "    política       0.96      0.90      0.93        29\n",
      "    sociedad       0.78      0.79      0.78       101\n",
      "     sucesos       0.97      0.94      0.96        34\n",
      "\n",
      "    accuracy                           0.85       321\n",
      "   macro avg       0.86      0.85      0.86       321\n",
      "weighted avg       0.85      0.85      0.85       321\n",
      "\n"
     ]
    }
   ],
   "source": [
    "conf_matrix_lasolana = confusion_matrix(y_test, predictions_lasolana)\n",
    "print(f'accuracy_lasolana: {acc_lasolana}')\n",
    "print()\n",
    "print(metrics.classification_report(y_test, predictions_lasolana, \n",
    "                                    target_names=['cultura','deporte','economía','educación','política','sociedad', 'sucesos']))"
   ]
  },
  {
   "cell_type": "markdown",
   "id": "83243d6d",
   "metadata": {},
   "source": [
    "The `lasolana` highest accuracy was in classifying 'deporte', while 'economía' appears to be the most challenging, followed by 'sociedad' and 'cultura'. The confusion matrix below shows that all incorrectly labeled instances of 'economía' fall into 'sociedad', which is a challenging topic because encompasses various subtopics as previously mentioned."
   ]
  },
  {
   "cell_type": "code",
   "execution_count": 74,
   "id": "228f570d",
   "metadata": {},
   "outputs": [
    {
     "data": {
      "image/png": "[encoded data removed]",
      "text/plain": [
       "<Figure size 600x400 with 1 Axes>"
      ]
     },
     "metadata": {},
     "output_type": "display_data"
    }
   ],
   "source": [
    "plot_conf_matrix(conf_matrix_lasolana)"
   ]
  },
  {
   "cell_type": "markdown",
   "id": "c1da56e1",
   "metadata": {},
   "source": [
    "####  fasttest"
   ]
  },
  {
   "cell_type": "code",
   "execution_count": 75,
   "id": "96c8b258",
   "metadata": {},
   "outputs": [],
   "source": [
    "def get_embedding(word):\n",
    "    try:\n",
    "        embedding=loc_pretrained[word]\n",
    "    except:\n",
    "        embedding=np.zeros((150,))\n",
    "    return embedding"
   ]
  },
  {
   "cell_type": "code",
   "execution_count": 76,
   "id": "e4160adb",
   "metadata": {},
   "outputs": [],
   "source": [
    "X_train_embeddings=[np.mean(np.array(list(map(get_embedding,tok_sent))),axis=0) for tok_sent in X_train]\n",
    "X_test_embeddings=[np.mean(np.array(list(map(get_embedding,tok_sent))),axis=0) for tok_sent in X_test]"
   ]
  },
  {
   "cell_type": "code",
   "execution_count": 77,
   "id": "e0477e86",
   "metadata": {},
   "outputs": [],
   "source": [
    "predictions_pretrained, acc_pretrained = get_acc_RandomForestClassifier(X_train_embeddings, y_train, X_test_embeddings, y_test)"
   ]
  },
  {
   "cell_type": "code",
   "execution_count": 78,
   "id": "7b34fc7c",
   "metadata": {
    "scrolled": false
   },
   "outputs": [
    {
     "name": "stdout",
     "output_type": "stream",
     "text": [
      "accuracy_pretrained: 0.8068535825545171\n",
      "\n",
      "              precision    recall  f1-score   support\n",
      "\n",
      "     cultura       0.73      0.76      0.75        54\n",
      "     deporte       1.00      0.93      0.96        54\n",
      "    economía       0.80      0.67      0.73        24\n",
      "   educación       0.69      0.88      0.77        25\n",
      "    política       0.96      0.93      0.95        29\n",
      "    sociedad       0.78      0.72      0.75       101\n",
      "     sucesos       0.71      0.88      0.79        34\n",
      "\n",
      "    accuracy                           0.81       321\n",
      "   macro avg       0.81      0.82      0.81       321\n",
      "weighted avg       0.81      0.81      0.81       321\n",
      "\n"
     ]
    }
   ],
   "source": [
    "conf_matrix_pretrained = confusion_matrix(y_test, predictions_pretrained)\n",
    "print(f'accuracy_pretrained: {acc_pretrained}')\n",
    "print()\n",
    "print(metrics.classification_report(y_test, predictions_pretrained, \n",
    "                                    target_names=['cultura','deporte','economía','educación','política','sociedad', 'sucesos']))"
   ]
  },
  {
   "cell_type": "markdown",
   "id": "9340f49b",
   "metadata": {},
   "source": [
    "The `fasttext` highest accuracy was in classifying 'deporte', while 'economía' proved to be the most challenging, followed by 'sociedad' and 'cultura', as in `lasolana`. The confusion matrix below shows that 6 instances were incorrectly labeled as 'sociedad', again similarly as in `lasolana`."
   ]
  },
  {
   "cell_type": "code",
   "execution_count": 79,
   "id": "804b863d",
   "metadata": {},
   "outputs": [
    {
     "data": {
      "image/png": "[encoded data removed]",
      "text/plain": [
       "<Figure size 600x400 with 1 Axes>"
      ]
     },
     "metadata": {},
     "output_type": "display_data"
    }
   ],
   "source": [
    "plot_conf_matrix(conf_matrix_pretrained)"
   ]
  },
  {
   "cell_type": "markdown",
   "id": "4e2c6954",
   "metadata": {},
   "source": [
    "#### lasolana+fasttest"
   ]
  },
  {
   "cell_type": "code",
   "execution_count": 80,
   "id": "946c9539",
   "metadata": {
    "scrolled": true
   },
   "outputs": [],
   "source": [
    "def get_embedding(word):\n",
    "    try:\n",
    "        embedding=loc_finetuned[word]\n",
    "    except:\n",
    "        embedding=np.zeros((150,))\n",
    "    return embedding"
   ]
  },
  {
   "cell_type": "code",
   "execution_count": 81,
   "id": "0ff03775",
   "metadata": {},
   "outputs": [],
   "source": [
    "X_train_embeddings=[np.mean(np.array(list(map(get_embedding,tok_sent))),axis=0) for tok_sent in X_train]\n",
    "X_test_embeddings=[np.mean(np.array(list(map(get_embedding,tok_sent))),axis=0) for tok_sent in X_test]"
   ]
  },
  {
   "cell_type": "code",
   "execution_count": 82,
   "id": "c8bedadb",
   "metadata": {},
   "outputs": [],
   "source": [
    "predictions_finetuned, acc_finetuned = get_acc_RandomForestClassifier(X_train_embeddings, y_train, X_test_embeddings, y_test)"
   ]
  },
  {
   "cell_type": "code",
   "execution_count": 83,
   "id": "7cb5a0c8",
   "metadata": {
    "scrolled": false
   },
   "outputs": [
    {
     "name": "stdout",
     "output_type": "stream",
     "text": [
      "accuracy_finetuned: 0.8566978193146417\n",
      "\n",
      "              precision    recall  f1-score   support\n",
      "\n",
      "     cultura       0.81      0.81      0.81        54\n",
      "     deporte       1.00      0.94      0.97        54\n",
      "    economía       0.76      0.79      0.78        24\n",
      "   educación       0.79      0.88      0.83        25\n",
      "    política       0.96      0.93      0.95        29\n",
      "    sociedad       0.80      0.78      0.79       101\n",
      "     sucesos       0.92      0.97      0.94        34\n",
      "\n",
      "    accuracy                           0.86       321\n",
      "   macro avg       0.86      0.87      0.87       321\n",
      "weighted avg       0.86      0.86      0.86       321\n",
      "\n"
     ]
    }
   ],
   "source": [
    "conf_matrix_finetuned = confusion_matrix(y_test, predictions_finetuned)\n",
    "print(f'accuracy_finetuned: {acc_finetuned}')\n",
    "print()\n",
    "print(metrics.classification_report(y_test, predictions_finetuned, \n",
    "                                    target_names=['cultura','deporte','economía','educación','política','sociedad', 'sucesos']))\n"
   ]
  },
  {
   "cell_type": "markdown",
   "id": "e0a26bd2",
   "metadata": {},
   "source": [
    "The results indicate that `lasolana+fasttext` (finetuned) embeddings classify 'deporte' the most accurately, while 'sociedad' poses the most difficulties, which differs from the results of `lasolana`and `fasttext`.  This was expected as 'sociedad' is an umbrella term for various subtopics. Overall, the model's performance is good.\n",
    "\n",
    "We can examine the errors in the confusion matrix below:"
   ]
  },
  {
   "cell_type": "code",
   "execution_count": 84,
   "id": "4c872b2b",
   "metadata": {
    "scrolled": true
   },
   "outputs": [
    {
     "data": {
      "image/png": "[encoded data removed]",
      "text/plain": [
       "<Figure size 600x400 with 1 Axes>"
      ]
     },
     "metadata": {},
     "output_type": "display_data"
    }
   ],
   "source": [
    "plot_conf_matrix(conf_matrix_finetuned)"
   ]
  },
  {
   "cell_type": "markdown",
   "id": "ee716bac",
   "metadata": {},
   "source": [
    "Just one instance from the 'deporte' category was incorrectly classified as 'cultura' and two as 'sociedad', which may be seen as related category depending on the content of the article. Additionally, 9 incorrectly labeled instances that should belong to the 'sociedad' category are also labeled as 'cultura', indicating that 'cultura' may be a complex category that shares features with other categories."
   ]
  },
  {
   "cell_type": "markdown",
   "id": "49d83f4d",
   "metadata": {},
   "source": [
    "### Final Results"
   ]
  },
  {
   "cell_type": "markdown",
   "id": "da0c3a53",
   "metadata": {},
   "source": [
    "The following experiments have yielded intriguing results, which we will analyze by type of evaluation:\n",
    "\n",
    "* **Intrinsic evaluation**: While the 'toefl' results are impressive for all sets of embeddings, interesting outcomes are observed in the 'analogy; section. The average column (black borders) shows that both the `lasolana` and `fasttext` embeddings have the same accuracy, while the finetuned set performs worse. However, when looking at the 'solanero' and 'general' columns, their performance is inverse: in-domain embeddings (`lasolana`) perform well in the in-domain pair of analogies, while the general embeddings perform poorly. Otherwise, when testing on general pairs of analogies, the results are inverse. General embeddings (`fasttext`) perform well in general pairs, while in-domain embeddings perform poorly."
   ]
  },
  {
   "attachments": {
    "results.png": {
     "image/png": "[encoded data removed]"
    }
   },
   "cell_type": "markdown",
   "id": "c0a75744",
   "metadata": {},
   "source": [
    "![results.png](attachment:results.png)"
   ]
  },
  {
   "cell_type": "markdown",
   "id": "4b85c5a0",
   "metadata": {},
   "source": [
    "* **Extrinsic evaluation**: It is observed that approaches using word embeddings outperform the approach that uses a document-term matrix (grey column, accuracy of 0.63). However, the difference among word embedding sets is relatively small. The best set is the finetuned one with an accuracy of 0.85, while the in-domain embeddings are just one point below. The general set is the worst with an accuracy of 0.80. "
   ]
  },
  {
   "cell_type": "markdown",
   "id": "dcb86f96",
   "metadata": {},
   "source": [
    "### Conclusion"
   ]
  },
  {
   "cell_type": "markdown",
   "id": "bc1fc5f6",
   "metadata": {},
   "source": [
    "This notebook provides an account of the entire training and evaluation process for three sets of embeddings: in-domain embeddings trained on collected data, Spanish fasttext embeddings, and a fine-tuned version of both. The results indicate that there is no superior set, as their application depends on the context. The extrinsic evaluation demonstrated that the fine-tuned embeddings should be used for downstream NLP tasks like text classification if the data to be classified has the same domain as ours. In-domain embeddings, such as `lasolana`, would be useful for dissemination purposes, such as presenting our project in the town of La Solana as a demonstration in an NLP workshop. Finally, `fasttext` embeddings are the best option for all general tasks."
   ]
  }
 ],
 "metadata": {
  "kernelspec": {
   "display_name": "Python 3 (ipykernel)",
   "language": "python",
   "name": "python3"
  },
  "language_info": {
   "codemirror_mode": {
    "name": "ipython",
    "version": 3
   },
   "file_extension": ".py",
   "mimetype": "text/x-python",
   "name": "python",
   "nbconvert_exporter": "python",
   "pygments_lexer": "ipython3",
   "version": "3.11.8"
  },
  "toc": {
   "base_numbering": 1,
   "nav_menu": {},
   "number_sections": false,
   "sideBar": true,
   "skip_h1_title": false,
   "title_cell": "Table of Contents",
   "title_sidebar": "Contents",
   "toc_cell": true,
   "toc_position": {},
   "toc_section_display": true,
   "toc_window_display": false
  },
  "toc-autonumbering": false,
  "toc-showcode": false,
  "toc-showmarkdowntxt": false,
  "toc-showtags": false
 },
 "nbformat": 4,
 "nbformat_minor": 5
}
